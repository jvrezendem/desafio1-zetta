{
 "cells": [
  {
   "cell_type": "code",
   "execution_count": null,
   "id": "a084a0f2-b21c-4f83-bf63-3f68c83aeef7",
   "metadata": {},
   "outputs": [
    {
     "name": "stderr",
     "output_type": "stream",
     "text": [
      "C:\\Users\\Meu computador\\AppData\\Local\\Temp\\ipykernel_11328\\1319323128.py:3: DtypeWarning: Columns (32) have mixed types. Specify dtype option on import or set low_memory=False.\n",
      "  df = pd.read_csv('../data/bruto/microdados_ed_basica_2024.csv', sep= ';', encoding='latin1')\n"
     ]
    },
    {
     "name": "stdout",
     "output_type": "stream",
     "text": [
      "        NU_ANO_CENSO     NO_REGIAO  CO_REGIAO             NO_UF SG_UF  CO_UF  \\\n",
      "0               2024         Norte          1          Rondônia    RO     11   \n",
      "1               2024         Norte          1          Rondônia    RO     11   \n",
      "2               2024         Norte          1          Rondônia    RO     11   \n",
      "3               2024         Norte          1          Rondônia    RO     11   \n",
      "4               2024         Norte          1          Rondônia    RO     11   \n",
      "...              ...           ...        ...               ...   ...    ...   \n",
      "215540          2024  Centro-Oeste          5  Distrito Federal    DF     53   \n",
      "215541          2024  Centro-Oeste          5  Distrito Federal    DF     53   \n",
      "215542          2024  Centro-Oeste          5  Distrito Federal    DF     53   \n",
      "215543          2024  Centro-Oeste          5  Distrito Federal    DF     53   \n",
      "215544          2024  Centro-Oeste          5  Distrito Federal    DF     53   \n",
      "\n",
      "                 NO_MUNICIPIO  CO_MUNICIPIO NO_REGIAO_GEOG_INTERM  \\\n",
      "0       Alta Floresta D'Oeste       1100015             Ji-Paraná   \n",
      "1       Alta Floresta D'Oeste       1100015             Ji-Paraná   \n",
      "2       Alta Floresta D'Oeste       1100015             Ji-Paraná   \n",
      "3       Alta Floresta D'Oeste       1100015             Ji-Paraná   \n",
      "4       Alta Floresta D'Oeste       1100015             Ji-Paraná   \n",
      "...                       ...           ...                   ...   \n",
      "215540               Brasília       5300108      Distrito Federal   \n",
      "215541               Brasília       5300108      Distrito Federal   \n",
      "215542               Brasília       5300108      Distrito Federal   \n",
      "215543               Brasília       5300108      Distrito Federal   \n",
      "215544               Brasília       5300108      Distrito Federal   \n",
      "\n",
      "        CO_REGIAO_GEOG_INTERM  ... QT_TUR_BAS_D  QT_TUR_BAS_N QT_TUR_BAS_EAD  \\\n",
      "0                        1102  ...          4.0           0.0            0.0   \n",
      "1                        1102  ...          0.0           4.0            0.0   \n",
      "2                        1102  ...          NaN           NaN            NaN   \n",
      "3                        1102  ...         10.0           0.0            0.0   \n",
      "4                        1102  ...         35.0           5.0            0.0   \n",
      "...                       ...  ...          ...           ...            ...   \n",
      "215540                   5301  ...         10.0           0.0            0.0   \n",
      "215541                   5301  ...         22.0           0.0            0.0   \n",
      "215542                   5301  ...         16.0           0.0            0.0   \n",
      "215543                   5301  ...         25.0           0.0            0.0   \n",
      "215544                   5301  ...          9.0           0.0            0.0   \n",
      "\n",
      "        QT_TUR_INF_INT QT_TUR_INF_CRE_INT  QT_TUR_INF_PRE_INT QT_TUR_FUND_INT  \\\n",
      "0                  0.0                0.0                 0.0             0.0   \n",
      "1                  0.0                0.0                 0.0             0.0   \n",
      "2                  NaN                NaN                 NaN             NaN   \n",
      "3                  0.0                0.0                 0.0             0.0   \n",
      "4                  0.0                0.0                 0.0             0.0   \n",
      "...                ...                ...                 ...             ...   \n",
      "215540             0.0                0.0                 0.0             0.0   \n",
      "215541             4.0                4.0                 0.0             0.0   \n",
      "215542             0.0                0.0                 0.0             0.0   \n",
      "215543             1.0                0.0                 1.0             0.0   \n",
      "215544             0.0                0.0                 0.0             0.0   \n",
      "\n",
      "        QT_TUR_FUND_AI_INT QT_TUR_FUND_AF_INT  QT_TUR_MED_INT  \n",
      "0                      0.0                0.0             0.0  \n",
      "1                      0.0                0.0             0.0  \n",
      "2                      NaN                NaN             NaN  \n",
      "3                      0.0                0.0             0.0  \n",
      "4                      0.0                0.0             0.0  \n",
      "...                    ...                ...             ...  \n",
      "215540                 0.0                0.0             0.0  \n",
      "215541                 0.0                0.0             0.0  \n",
      "215542                 0.0                0.0             0.0  \n",
      "215543                 0.0                0.0             0.0  \n",
      "215544                 0.0                0.0             0.0  \n",
      "\n",
      "[215545 rows x 426 columns]\n"
     ]
    }
   ],
   "source": [
    "import pandas as pd\n",
    "\n",
    "df = pd.read_csv('../data/bruto/crimes_violentos_2023.csv', sep= ';')\n",
    "df[df[\"NO_UF\"] == \"Minas Gerais\"]\n",
    "\n",
    "print(df)\n"
   ]
  }
 ],
 "metadata": {
  "kernelspec": {
   "display_name": "base",
   "language": "python",
   "name": "python3"
  },
  "language_info": {
   "codemirror_mode": {
    "name": "ipython",
    "version": 3
   },
   "file_extension": ".py",
   "mimetype": "text/x-python",
   "name": "python",
   "nbconvert_exporter": "python",
   "pygments_lexer": "ipython3",
   "version": "3.13.5"
  }
 },
 "nbformat": 4,
 "nbformat_minor": 5
}
