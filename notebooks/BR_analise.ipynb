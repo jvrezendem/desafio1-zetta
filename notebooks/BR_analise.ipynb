{
 "cells": [
  {
   "cell_type": "markdown",
   "id": "1f37b410",
   "metadata": {},
   "source": [
    "Contagem da quantidade de crimes violentos ocoridos em Minas Gerais em 2023 (por natureza do crime)"
   ]
  },
  {
   "cell_type": "code",
   "execution_count": 2,
   "id": "a084a0f2-b21c-4f83-bf63-3f68c83aeef7",
   "metadata": {},
   "outputs": [
    {
     "name": "stdout",
     "output_type": "stream",
     "text": [
      "natureza\n",
      "Estupro Consumado                        10236\n",
      "Estupro de Vulnerável Consumado          10236\n",
      "Estupro de Vulnerável Tentado            10236\n",
      "Estupro Tentado                          10236\n",
      "Extorsão Consumado                       10236\n",
      "Extorsão Mediante Sequestro Consumado    10236\n",
      "Extorsão Tentado                         10236\n",
      "Homicídio Tentado                        10236\n",
      "Roubo Consumado                          10236\n",
      "Roubo Tentado                            10236\n",
      "Sequestro e Cárcere Privado Consumado    10236\n",
      "Sequestro e Cárcere Privado Tentado      10236\n",
      "Homicídio Consumado (Registros)          10236\n",
      "Name: count, dtype: int64\n"
     ]
    }
   ],
   "source": [
    "import pandas as pd\n",
    "\n",
    "df = pd.read_csv('../data/bruto/crimes_violentos_2024.csv', sep= ';')\n",
    "\n",
    "df.drop_duplicates()\n",
    "\n",
    "contCrimes = df['natureza'].value_counts()\n",
    "\n",
    "print(contCrimes)\n"
   ]
  },
  {
   "cell_type": "markdown",
   "id": "c561bdf0",
   "metadata": {},
   "source": [
    "Isso acontece porque o arquivo está estruturado com blocos idênticos:\n",
    "para cada tipo de crime, há uma linha para cada município de Minas Gerais, sempre com o mesmo número de registros (10236)."
   ]
  },
  {
   "cell_type": "markdown",
   "id": "5b024d2b",
   "metadata": {},
   "source": [
    "Crimes por Regiões Integradas de Segurança Pública (RISP)"
   ]
  },
  {
   "cell_type": "code",
   "execution_count": null,
   "id": "6579ecd1",
   "metadata": {},
   "outputs": [
    {
     "name": "stdout",
     "output_type": "stream",
     "text": [
      "    RISP  TOTAL_CRIMES\n",
      "0     12         15132\n",
      "1      4         13416\n",
      "2     11         12012\n",
      "3     17         11232\n",
      "4     13          9516\n",
      "5     15          9360\n",
      "6      8          9048\n",
      "7     18          8580\n",
      "8     14          8112\n",
      "9      7          7800\n",
      "10     6          6864\n",
      "11     5          4680\n",
      "12    10          3588\n",
      "13     2          2808\n",
      "14     3          2808\n",
      "15     9          2808\n",
      "16    16          2652\n",
      "17    19          2496\n",
      "18     1           156\n"
     ]
    }
   ],
   "source": [
    "import pandas as pd\n",
    "\n",
    "df = pd.read_csv('../data/bruto/crimes_violentos_2024.csv', sep= ';')\n",
    "\n",
    "df.drop_duplicates()\n",
    "\n",
    "crimes_regiao = df.groupby('risp')['natureza'].count().sort_values(ascending=False)\n",
    "\n",
    "crimes_regiao = crimes_regiao.reset_index()\n",
    "crimes_regiao.columns = ['RISP', 'TOTAL_CRIMES']\n",
    "\n",
    "print(crimes_regiao)\n",
    "\n",
    "crimes_regiao.to_csv('../data/processado/crimes_por_regiao.csv', sep=';', index=False, encoding='utf-8')\n",
    "\n",
    "\n"
   ]
  },
  {
   "cell_type": "markdown",
   "id": "63769f23",
   "metadata": {},
   "source": [
    "Unir Tabela de Crimes com tabela de códigos de regiões"
   ]
  },
  {
   "cell_type": "markdown",
   "id": "a47d5abf",
   "metadata": {},
   "source": [
    "Inserir as coordenadas da cede de cada região (RISP) segundo o Google Maps"
   ]
  },
  {
   "cell_type": "code",
   "execution_count": 59,
   "id": "d169c892",
   "metadata": {},
   "outputs": [],
   "source": [
    "import pandas as pd\n",
    "\n",
    "df = pd.read_csv('../data/processado/crimes_por_regiao.csv', sep=';')\n",
    "\n",
    "coords = {\n",
    "    1:  [-19.9167, -43.9345],  # Belo Horizonte\n",
    "    2:  [-19.7668, -44.0868],  # Ribeirão das Neves\n",
    "    3:  [-19.6944, -43.9237],  # Vespasiano\n",
    "    4:  [-21.7642, -43.3496],  # Juiz de Fora\n",
    "    5:  [-19.7479, -47.9319],  # Uberaba\n",
    "    6:  [-21.2475, -44.9997],  # Lavras\n",
    "    7:  [-20.1452, -44.8912],  # Divinópolis\n",
    "    8:  [-18.8545, -41.9459],  # Governador Valadares\n",
    "    9:  [-18.9128, -48.2755],  # Uberlândia\n",
    "    10: [-19.0003, -46.3162],  # Carmo do Paranaíba \n",
    "    11: [-16.7286, -43.8578],  # Montes Claros\n",
    "    12: [-19.4820, -42.5279],  # Ipatinga\n",
    "    13: [-21.2250, -43.7737],  # Barbacena\n",
    "    14: [-18.7573, -44.4303],  # Curvelo\n",
    "    15: [-17.8576, -41.5059],  # Teófilo Otoni\n",
    "    16: [-16.3595, -46.9067],  # Unaí\n",
    "    17: [-22.2300, -45.9380],  # Pouso Alegre\n",
    "    18: [-21.7890, -46.5663],  # Poços de Caldas\n",
    "    19: [-19.4671, -44.2469],  # Sete Lagoas\n",
    "}\n",
    "\n",
    "df['latitude'] = df['RISP'].map(lambda x: coords.get(x, [None, None])[0])\n",
    "df['longitude'] = df['RISP'].map(lambda x: coords.get(x, [None, None])[1])\n",
    "\n",
    "df.to_csv('../data/processado/crimes_por_regiao.csv', sep=';', index=False, encoding='utf-8')\n",
    "\n",
    "#criação do database final\n",
    "df.to_csv('../data/processado/database_rispMG.csv', sep=';', index=False, encoding='utf-8')\n"
   ]
  },
  {
   "cell_type": "markdown",
   "id": "2bacb4e8",
   "metadata": {},
   "source": [
    "Criando o mapa de calor"
   ]
  },
  {
   "cell_type": "code",
   "execution_count": 5,
   "id": "108fd2a7",
   "metadata": {},
   "outputs": [],
   "source": [
    "import folium\n",
    "from folium.plugins import HeatMap\n",
    "\n",
    "df = pd.read_csv('../data/processado/crimes_por_regiao.csv', sep=';')\n",
    "\n",
    "mapa = folium.Map(location= [-18.472096, -44.353396], zoom_start= 6)\n",
    "coords = list(zip(df.latitude, df.longitude))\n",
    "mapaCalor = HeatMap(coords, radius=60, blur=50)\n",
    "mapa.add_child(mapaCalor)\n",
    "\n",
    "mapa.save('../src/mapa_calor_crimes_MG.html')"
   ]
  },
  {
   "cell_type": "markdown",
   "id": "a7b10598",
   "metadata": {},
   "source": [
    "Adição da população de cada RISP no dataBase"
   ]
  },
  {
   "cell_type": "code",
   "execution_count": null,
   "id": "8fc53ed6",
   "metadata": {},
   "outputs": [
    {
     "name": "stdout",
     "output_type": "stream",
     "text": [
      "    risp  total_crimes  latitude  longitude     2022\n",
      "0     12         15132  -19.4820   -42.5279  1718360\n",
      "1      4         13416  -21.7642   -43.3496  1574197\n",
      "2     11         12012  -16.7286   -43.8578  1427455\n",
      "3     17         11232  -22.2300   -45.9380  1023552\n",
      "4     13          9516  -21.2250   -43.7737   732771\n",
      "5     15          9360  -17.8576   -41.5059   825657\n",
      "6      8          9048  -18.8545   -41.9459   687921\n",
      "7     18          8580  -21.7890   -46.5663  1105320\n",
      "8     14          8112  -18.7573   -44.4303   673977\n",
      "9      7          7800  -20.1452   -44.8912  1182836\n",
      "10     6          6864  -21.2475   -44.9997   880430\n",
      "11     5          4680  -19.7479   -47.9319   823093\n",
      "12    10          3588  -19.0003   -46.3162   534508\n",
      "13     2          2808  -19.7668   -44.0868  1905395\n",
      "14     3          2808  -19.6944   -43.9237   988106\n",
      "15     9          2808  -18.9128   -48.2755  1100550\n",
      "16    16          2652  -16.3595   -46.9067   377579\n",
      "17    19          2496  -19.4671   -44.2469   433110\n",
      "18     1           156  -19.9167   -43.9345  2315560\n"
     ]
    }
   ],
   "source": [
    "import pandas as pd\n",
    "\n",
    "#novos dados a serem adicionados \n",
    "dadosPop = pd.read_csv('../data/bruto/popTotal_2022.csv', sep=';', encoding= 'utf-8')\n",
    "\n",
    "#relação municipio - RISP\n",
    "risp = pd.read_csv('../data/bruto/municipios_risp.csv', sep=';', encoding= 'utf-8')\n",
    "\n",
    "#arquivo onde serão adicionados os dados \n",
    "df = pd.read_csv('../data/processado/database_rispMG.csv', sep=';', encoding= 'utf-8')\n",
    "\n",
    "risp.columns = risp.columns.str.strip().str.lower()\n",
    "dadosPop.columns = dadosPop.columns.str.strip().str.lower()\n",
    "df.columns = df.columns.str.strip().str.lower()\n",
    "\n",
    "relacao = risp.merge(dadosPop, on='município', how='inner')\n",
    "\n",
    "popRisp = relacao.groupby(\"risp\")[\"2022\"].sum().reset_index()\n",
    "\n",
    "\n",
    "dfPop = df.merge(popRisp, on=\"risp\", how='left')\n",
    "\n",
    "\n",
    "print(dfPop)\n",
    "\n",
    "dfPop.to_csv('../data/processado/database_rispMG.csv', sep=';', encoding= 'utf-8', index=False)\n",
    "\n",
    "\n",
    "\n"
   ]
  },
  {
   "cell_type": "markdown",
   "id": "74d68a78",
   "metadata": {},
   "source": [
    "Ordenando os Dados por Código Risp"
   ]
  },
  {
   "cell_type": "code",
   "execution_count": 68,
   "id": "0a2f282c",
   "metadata": {},
   "outputs": [
    {
     "name": "stdout",
     "output_type": "stream",
     "text": [
      "    risp  total_crimes  latitude  longitude  populacao\n",
      "18     1           156  -19.9167   -43.9345    2315560\n",
      "13     2          2808  -19.7668   -44.0868    1905395\n",
      "14     3          2808  -19.6944   -43.9237     988106\n",
      "1      4         13416  -21.7642   -43.3496    1574197\n",
      "11     5          4680  -19.7479   -47.9319     823093\n",
      "10     6          6864  -21.2475   -44.9997     880430\n",
      "9      7          7800  -20.1452   -44.8912    1182836\n",
      "6      8          9048  -18.8545   -41.9459     687921\n",
      "15     9          2808  -18.9128   -48.2755    1100550\n",
      "12    10          3588  -19.0003   -46.3162     534508\n",
      "2     11         12012  -16.7286   -43.8578    1427455\n",
      "0     12         15132  -19.4820   -42.5279    1718360\n",
      "4     13          9516  -21.2250   -43.7737     732771\n",
      "8     14          8112  -18.7573   -44.4303     673977\n",
      "5     15          9360  -17.8576   -41.5059     825657\n",
      "16    16          2652  -16.3595   -46.9067     377579\n",
      "3     17         11232  -22.2300   -45.9380    1023552\n",
      "7     18          8580  -21.7890   -46.5663    1105320\n",
      "17    19          2496  -19.4671   -44.2469     433110\n"
     ]
    }
   ],
   "source": [
    "import pandas as pd\n",
    "\n",
    "df = pd.read_csv('../data/processado/database_rispMG.csv', sep=';', encoding= 'utf-8')\n",
    "df = df.sort_values(by=\"risp\", ascending=True)\n",
    "\n",
    "df.to_csv('../data/processado/database_rispMG.csv', sep=';', encoding= 'utf-8', index=False)\n",
    "\n",
    "print(df)"
   ]
  },
  {
   "cell_type": "markdown",
   "id": "9f2225f3",
   "metadata": {},
   "source": [
    "Adicionando dados de renda per capita"
   ]
  },
  {
   "cell_type": "code",
   "execution_count": 89,
   "id": "777384dc",
   "metadata": {},
   "outputs": [
    {
     "name": "stdout",
     "output_type": "stream",
     "text": [
      "    risp  total_crimes  latitude  longitude  populacao         2010\n",
      "0      1           156  -19.9167   -43.9345    2315560  3341.202635\n",
      "1      2          2808  -19.7668   -44.0868    1905395  1305.204350\n",
      "2      3          2808  -19.6944   -43.9237     988106  1495.459415\n",
      "3      4         13416  -21.7642   -43.3496    1574197  1150.614633\n",
      "4      5          4680  -19.7479   -47.9319     823093  1603.196628\n",
      "5      6          6864  -21.2475   -44.9997     880430  1268.971890\n",
      "6      7          7800  -20.1452   -44.8912    1182836  1361.878648\n",
      "7      8          9048  -18.8545   -41.9459     687921   843.576091\n",
      "8      9          2808  -18.9128   -48.2755    1100550  1500.402333\n",
      "9     10          3588  -19.0003   -46.3162     534508  1487.994277\n",
      "10    11         12012  -16.7286   -43.8578    1427455   663.031120\n",
      "11    12         15132  -19.4820   -42.5279    1718360   981.789731\n",
      "12    13          9516  -21.2250   -43.7737     732771  1031.525481\n",
      "13    14          8112  -18.7573   -44.4303     673977   830.394969\n",
      "14    15          9360  -17.8576   -41.5059     825657   714.860653\n",
      "15    16          2652  -16.3595   -46.9067     377579  1026.207781\n",
      "16    17         11232  -22.2300   -45.9380    1023552  1238.881027\n",
      "17    18          8580  -21.7890   -46.5663    1105320  1420.181561\n",
      "18    19          2496  -19.4671   -44.2469     433110  1226.990275\n"
     ]
    }
   ],
   "source": [
    "import pandas as pd\n",
    "\n",
    "rendaMunicipio = pd.read_csv('../data/bruto/renda_per_capita_2010.csv', sep=';', encoding= 'utf-8')\n",
    "\n",
    "risp = pd.read_csv('../data/bruto/municipios_risp.csv', sep=';', encoding= 'utf-8')\n",
    "\n",
    "df = pd.read_csv('../data/processado/database_rispMG.csv', sep=';', encoding= 'utf-8')\n",
    "\n",
    "risp.columns = risp.columns.str.strip().str.lower()\n",
    "rendaMunicipio.columns = rendaMunicipio.columns.str.strip().str.lower()\n",
    "df.columns = df.columns.str.strip().str.lower()\n",
    "\n",
    "relacao = risp.merge(rendaMunicipio, on='município', how='inner')\n",
    "relacao['2010'] = relacao['2010'].astype(str).str.replace(',', '.')\n",
    "relacao['2010'] = pd.to_numeric(relacao['2010'], errors='coerce')\n",
    "\n",
    "rendaRisp = relacao.groupby(\"risp\")[\"2010\"].mean().reset_index()\n",
    "#Fator de correção segundo: https://www.idinheiro.com.br/\n",
    "fatorIPCA = 2.2315\n",
    "\n",
    "rendaRisp['2010'] = rendaRisp['2010'] * fatorIPCA\n",
    "\n",
    "dfRenda = df.merge(rendaRisp, on=\"risp\", how='left')\n",
    "\n",
    "print(dfRenda)\n",
    "\n",
    "dfRenda.to_csv('../data/processado/database_rispMG.csv', sep=';', encoding= 'utf-8', index=False)\n"
   ]
  },
  {
   "cell_type": "markdown",
   "id": "191db16d",
   "metadata": {},
   "source": [
    "Adição do IDH Médio de cada RISP"
   ]
  }
 ],
 "metadata": {
  "kernelspec": {
   "display_name": "base",
   "language": "python",
   "name": "python3"
  },
  "language_info": {
   "codemirror_mode": {
    "name": "ipython",
    "version": 3
   },
   "file_extension": ".py",
   "mimetype": "text/x-python",
   "name": "python",
   "nbconvert_exporter": "python",
   "pygments_lexer": "ipython3",
   "version": "3.13.5"
  }
 },
 "nbformat": 4,
 "nbformat_minor": 5
}
