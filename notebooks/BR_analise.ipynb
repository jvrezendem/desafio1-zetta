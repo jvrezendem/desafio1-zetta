{
 "cells": [
  {
   "cell_type": "markdown",
   "id": "1f37b410",
   "metadata": {},
   "source": [
    "Contagem da quantidade de crimes violentos ocoridos em Minas Gerais em 2023 (por natureza do crime)"
   ]
  },
  {
   "cell_type": "code",
   "execution_count": 8,
   "id": "a084a0f2-b21c-4f83-bf63-3f68c83aeef7",
   "metadata": {},
   "outputs": [
    {
     "name": "stdout",
     "output_type": "stream",
     "text": [
      "natureza\n",
      "Estupro Consumado                        10236\n",
      "Estupro de Vulnerável Consumado          10236\n",
      "Estupro de Vulnerável Tentado            10236\n",
      "Estupro Tentado                          10236\n",
      "Extorsão Consumado                       10236\n",
      "Extorsão Mediante Sequestro Consumado    10236\n",
      "Extorsão Tentado                         10236\n",
      "Homicídio Tentado                        10236\n",
      "Roubo Consumado                          10236\n",
      "Roubo Tentado                            10236\n",
      "Sequestro e Cárcere Privado Consumado    10236\n",
      "Sequestro e Cárcere Privado Tentado      10236\n",
      "Homicídio Consumado (Registros)          10236\n",
      "Name: count, dtype: int64\n"
     ]
    }
   ],
   "source": [
    "import pandas as pd\n",
    "\n",
    "df = pd.read_csv('../data/bruto/crimes_violentos_2023.csv', sep= ';')\n",
    "\n",
    "df.drop_duplicates()\n",
    "\n",
    "contCrimes = df['natureza'].value_counts()\n",
    "\n",
    "print(contCrimes)\n"
   ]
  },
  {
   "cell_type": "markdown",
   "id": "c561bdf0",
   "metadata": {},
   "source": [
    "Isso acontece porque o arquivo está estruturado com blocos idênticos:\n",
    "para cada tipo de crime, há uma linha para cada município de Minas Gerais, sempre com o mesmo número de registros (10236)."
   ]
  },
  {
   "cell_type": "markdown",
   "id": "5b024d2b",
   "metadata": {},
   "source": [
    "Crimes por Regiões Integradas de Segurança Pública (RISP)"
   ]
  },
  {
   "cell_type": "code",
   "execution_count": 1,
   "id": "6579ecd1",
   "metadata": {},
   "outputs": [],
   "source": [
    "import pandas as pd\n",
    "\n",
    "df = pd.read_csv('../data/bruto/crimes_violentos_2023.csv', sep= ';')\n",
    "\n",
    "df.drop_duplicates()\n",
    "\n",
    "crimes_regiao = df.groupby('risp')['natureza'].count().sort_values(ascending=False)\n",
    "\n",
    "crimes_regiao = crimes_regiao.reset_index()\n",
    "crimes_regiao.columns = ['RISP', 'TOTAL_CRIMES']\n",
    "\n",
    "crimes_regiao.to_csv('../data/processado/crimes_por_regiao.csv', sep=';', index=False, encoding='utf-8')\n"
   ]
  },
  {
   "cell_type": "markdown",
   "id": "63769f23",
   "metadata": {},
   "source": [
    "Unir Tabela de Crimes com tabela de códigos de regiões"
   ]
  },
  {
   "cell_type": "markdown",
   "id": "a47d5abf",
   "metadata": {},
   "source": [
    "Inserir as coordenadas da cede de cada região (RISP) segundo o Google Maps"
   ]
  },
  {
   "cell_type": "code",
   "execution_count": 5,
   "id": "d169c892",
   "metadata": {},
   "outputs": [],
   "source": [
    "import pandas as pd\n",
    "\n",
    "df = pd.read_csv('../data/processado/crimes_por_regiao.csv', sep=';')\n",
    "\n",
    "coords = {\n",
    "    1:  [-19.9167, -43.9345],  # Belo Horizonte\n",
    "    2:  [-19.7668, -44.0868],  # Ribeirão das Neves\n",
    "    3:  [-19.6944, -43.9237],  # Vespasiano\n",
    "    4:  [-21.7642, -43.3496],  # Juiz de Fora\n",
    "    5:  [-19.7479, -47.9319],  # Uberaba\n",
    "    6:  [-21.2475, -44.9997],  # Lavras\n",
    "    7:  [-20.1452, -44.8912],  # Divinópolis\n",
    "    8:  [-18.8545, -41.9459],  # Governador Valadares\n",
    "    9:  [-18.9128, -48.2755],  # Uberlândia\n",
    "    10: [-19.0003, -46.3162],  # Carmo do Paranaíba \n",
    "    11: [-16.7286, -43.8578],  # Montes Claros\n",
    "    12: [-19.4820, -42.5279],  # Ipatinga\n",
    "    13: [-21.2250, -43.7737],  # Barbacena\n",
    "    14: [-18.7573, -44.4303],  # Curvelo\n",
    "    15: [-17.8576, -41.5059],  # Teófilo Otoni\n",
    "    16: [-16.3595, -46.9067],  # Unaí\n",
    "    17: [-22.2300, -45.9380],  # Pouso Alegre\n",
    "    18: [-21.7890, -46.5663],  # Poços de Caldas\n",
    "    19: [-19.4671, -44.2469],  # Sete Lagoas\n",
    "}\n",
    "\n",
    "df['latitude'] = df['RISP'].map(lambda x: coords.get(x, [None, None])[0])\n",
    "df['longitude'] = df['RISP'].map(lambda x: coords.get(x, [None, None])[1])\n",
    "\n",
    "df.to_csv('../data/processado/crimes_por_regiao.csv', sep=';', index=False, encoding='utf-8')\n"
   ]
  },
  {
   "cell_type": "markdown",
   "id": "2bacb4e8",
   "metadata": {},
   "source": [
    "Criando o mapa de calor"
   ]
  },
  {
   "cell_type": "code",
   "execution_count": 7,
   "id": "108fd2a7",
   "metadata": {},
   "outputs": [],
   "source": [
    "import folium\n",
    "from folium.plugins import HeatMap\n",
    "\n",
    "df = pd.read_csv('../data/processado/crimes_por_regiao.csv', sep=';')\n",
    "\n",
    "mapa = folium.Map(location= [-18.472096, -44.353396], zoom_start= 7)\n",
    "coords = list(zip(df.latitude, df.longitude))\n",
    "mapaCalor = HeatMap(coords, radius=9, blur=10)\n",
    "mapa.add_child(mapaCalor)\n",
    "\n",
    "mapa.save('../src/mapa_calor_crimes_MG.html')"
   ]
  }
 ],
 "metadata": {
  "kernelspec": {
   "display_name": "base",
   "language": "python",
   "name": "python3"
  },
  "language_info": {
   "codemirror_mode": {
    "name": "ipython",
    "version": 3
   },
   "file_extension": ".py",
   "mimetype": "text/x-python",
   "name": "python",
   "nbconvert_exporter": "python",
   "pygments_lexer": "ipython3",
   "version": "3.13.5"
  }
 },
 "nbformat": 4,
 "nbformat_minor": 5
}
