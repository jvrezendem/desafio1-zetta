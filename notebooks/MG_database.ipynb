{
 "cells": [
  {
   "cell_type": "markdown",
   "id": "1f37b410",
   "metadata": {},
   "source": [
    "Contagem da quantidade de crimes violentos ocoridos em Minas Gerais em 2023 (por natureza do crime)"
   ]
  },
  {
   "cell_type": "code",
   "execution_count": 2,
   "id": "a084a0f2-b21c-4f83-bf63-3f68c83aeef7",
   "metadata": {},
   "outputs": [
    {
     "name": "stdout",
     "output_type": "stream",
     "text": [
      "natureza\n",
      "Estupro Consumado                        10236\n",
      "Estupro de Vulnerável Consumado          10236\n",
      "Estupro de Vulnerável Tentado            10236\n",
      "Estupro Tentado                          10236\n",
      "Extorsão Consumado                       10236\n",
      "Extorsão Mediante Sequestro Consumado    10236\n",
      "Extorsão Tentado                         10236\n",
      "Homicídio Tentado                        10236\n",
      "Roubo Consumado                          10236\n",
      "Roubo Tentado                            10236\n",
      "Sequestro e Cárcere Privado Consumado    10236\n",
      "Sequestro e Cárcere Privado Tentado      10236\n",
      "Homicídio Consumado (Registros)          10236\n",
      "Name: count, dtype: int64\n"
     ]
    }
   ],
   "source": [
    "import pandas as pd\n",
    "\n",
    "df = pd.read_csv('../data/bruto/crimes_violentos_2024.csv', sep= ';')\n",
    "\n",
    "df.drop_duplicates()\n",
    "\n",
    "contCrimes = df['natureza'].value_counts()\n",
    "\n",
    "print(contCrimes)\n"
   ]
  },
  {
   "cell_type": "markdown",
   "id": "c561bdf0",
   "metadata": {},
   "source": [
    "Isso acontece porque o arquivo está estruturado com blocos idênticos:\n",
    "para cada tipo de crime, há uma linha para cada município de Minas Gerais, sempre com o mesmo número de registros (10236)."
   ]
  },
  {
   "cell_type": "markdown",
   "id": "5b024d2b",
   "metadata": {},
   "source": [
    "Crimes por Regiões Integradas de Segurança Pública (RISP)"
   ]
  },
  {
   "cell_type": "code",
   "execution_count": null,
   "id": "6579ecd1",
   "metadata": {},
   "outputs": [
    {
     "name": "stdout",
     "output_type": "stream",
     "text": [
      "    RISP  TOTAL_CRIMES\n",
      "0     12         15132\n",
      "1      4         13416\n",
      "2     11         12012\n",
      "3     17         11232\n",
      "4     13          9516\n",
      "5     15          9360\n",
      "6      8          9048\n",
      "7     18          8580\n",
      "8     14          8112\n",
      "9      7          7800\n",
      "10     6          6864\n",
      "11     5          4680\n",
      "12    10          3588\n",
      "13     2          2808\n",
      "14     3          2808\n",
      "15     9          2808\n",
      "16    16          2652\n",
      "17    19          2496\n",
      "18     1           156\n"
     ]
    }
   ],
   "source": [
    "import pandas as pd\n",
    "\n",
    "df = pd.read_csv('../data/bruto/crimes_violentos_2024.csv', sep= ';')\n",
    "\n",
    "df.drop_duplicates()\n",
    "\n",
    "crimes_regiao = df.groupby('risp')['natureza'].count().sort_values(ascending=False)\n",
    "\n",
    "crimes_regiao = crimes_regiao.reset_index()\n",
    "crimes_regiao.columns = ['RISP', 'TOTAL_CRIMES']\n",
    "\n",
    "print(crimes_regiao)\n",
    "\n",
    "crimes_regiao.to_csv('../data/processado/crimes_por_regiao.csv', sep=';', index=False, encoding='utf-8')\n",
    "\n",
    "\n"
   ]
  },
  {
   "cell_type": "markdown",
   "id": "63769f23",
   "metadata": {},
   "source": [
    "Unir Tabela de Crimes com tabela de códigos de regiões"
   ]
  },
  {
   "cell_type": "markdown",
   "id": "a47d5abf",
   "metadata": {},
   "source": [
    "Inserir as coordenadas da cede de cada região (RISP) segundo o Google Maps"
   ]
  },
  {
   "cell_type": "code",
   "execution_count": 59,
   "id": "d169c892",
   "metadata": {},
   "outputs": [],
   "source": [
    "import pandas as pd\n",
    "\n",
    "df = pd.read_csv('../data/processado/crimes_por_regiao.csv', sep=';')\n",
    "\n",
    "coords = {\n",
    "    1:  [-19.9167, -43.9345],  # Belo Horizonte\n",
    "    2:  [-19.7668, -44.0868],  # Ribeirão das Neves\n",
    "    3:  [-19.6944, -43.9237],  # Vespasiano\n",
    "    4:  [-21.7642, -43.3496],  # Juiz de Fora\n",
    "    5:  [-19.7479, -47.9319],  # Uberaba\n",
    "    6:  [-21.2475, -44.9997],  # Lavras\n",
    "    7:  [-20.1452, -44.8912],  # Divinópolis\n",
    "    8:  [-18.8545, -41.9459],  # Governador Valadares\n",
    "    9:  [-18.9128, -48.2755],  # Uberlândia\n",
    "    10: [-19.0003, -46.3162],  # Carmo do Paranaíba \n",
    "    11: [-16.7286, -43.8578],  # Montes Claros\n",
    "    12: [-19.4820, -42.5279],  # Ipatinga\n",
    "    13: [-21.2250, -43.7737],  # Barbacena\n",
    "    14: [-18.7573, -44.4303],  # Curvelo\n",
    "    15: [-17.8576, -41.5059],  # Teófilo Otoni\n",
    "    16: [-16.3595, -46.9067],  # Unaí\n",
    "    17: [-22.2300, -45.9380],  # Pouso Alegre\n",
    "    18: [-21.7890, -46.5663],  # Poços de Caldas\n",
    "    19: [-19.4671, -44.2469],  # Sete Lagoas\n",
    "}\n",
    "\n",
    "df['latitude'] = df['RISP'].map(lambda x: coords.get(x, [None, None])[0])\n",
    "df['longitude'] = df['RISP'].map(lambda x: coords.get(x, [None, None])[1])\n",
    "\n",
    "df.to_csv('../data/processado/crimes_por_regiao.csv', sep=';', index=False, encoding='utf-8')\n",
    "\n",
    "#criação do database final\n",
    "df.to_csv('../data/processado/database_rispMG.csv', sep=';', index=False, encoding='utf-8')\n"
   ]
  },
  {
   "cell_type": "markdown",
   "id": "a7b10598",
   "metadata": {},
   "source": [
    "Adição da população de cada RISP no dataBase"
   ]
  },
  {
   "cell_type": "code",
   "execution_count": null,
   "id": "8fc53ed6",
   "metadata": {},
   "outputs": [
    {
     "name": "stdout",
     "output_type": "stream",
     "text": [
      "    risp  total_crimes  latitude  longitude     2022\n",
      "0     12         15132  -19.4820   -42.5279  1718360\n",
      "1      4         13416  -21.7642   -43.3496  1574197\n",
      "2     11         12012  -16.7286   -43.8578  1427455\n",
      "3     17         11232  -22.2300   -45.9380  1023552\n",
      "4     13          9516  -21.2250   -43.7737   732771\n",
      "5     15          9360  -17.8576   -41.5059   825657\n",
      "6      8          9048  -18.8545   -41.9459   687921\n",
      "7     18          8580  -21.7890   -46.5663  1105320\n",
      "8     14          8112  -18.7573   -44.4303   673977\n",
      "9      7          7800  -20.1452   -44.8912  1182836\n",
      "10     6          6864  -21.2475   -44.9997   880430\n",
      "11     5          4680  -19.7479   -47.9319   823093\n",
      "12    10          3588  -19.0003   -46.3162   534508\n",
      "13     2          2808  -19.7668   -44.0868  1905395\n",
      "14     3          2808  -19.6944   -43.9237   988106\n",
      "15     9          2808  -18.9128   -48.2755  1100550\n",
      "16    16          2652  -16.3595   -46.9067   377579\n",
      "17    19          2496  -19.4671   -44.2469   433110\n",
      "18     1           156  -19.9167   -43.9345  2315560\n"
     ]
    }
   ],
   "source": [
    "import pandas as pd\n",
    "\n",
    "#novos dados a serem adicionados \n",
    "dadosPop = pd.read_csv('../data/bruto/popTotal_2022.csv', sep=';', encoding= 'utf-8')\n",
    "\n",
    "#relação municipio - RISP\n",
    "risp = pd.read_csv('../data/bruto/municipios_risp.csv', sep=';', encoding= 'utf-8')\n",
    "\n",
    "#arquivo onde serão adicionados os dados \n",
    "df = pd.read_csv('../data/processado/database_rispMG.csv', sep=';', encoding= 'utf-8')\n",
    "\n",
    "risp.columns = risp.columns.str.strip().str.lower()\n",
    "dadosPop.columns = dadosPop.columns.str.strip().str.lower()\n",
    "df.columns = df.columns.str.strip().str.lower()\n",
    "\n",
    "relacao = risp.merge(dadosPop, on='município', how='inner')\n",
    "\n",
    "popRisp = relacao.groupby(\"risp\")[\"2022\"].sum().reset_index()\n",
    "\n",
    "\n",
    "dfPop = df.merge(popRisp, on=\"risp\", how='left')\n",
    "\n",
    "\n",
    "print(dfPop)\n",
    "\n",
    "dfPop.to_csv('../data/processado/database_rispMG.csv', sep=';', encoding= 'utf-8', index=False)\n",
    "\n",
    "\n",
    "\n"
   ]
  },
  {
   "cell_type": "markdown",
   "id": "74d68a78",
   "metadata": {},
   "source": [
    "Ordenando os Dados por Código Risp"
   ]
  },
  {
   "cell_type": "code",
   "execution_count": 68,
   "id": "0a2f282c",
   "metadata": {},
   "outputs": [
    {
     "name": "stdout",
     "output_type": "stream",
     "text": [
      "    risp  total_crimes  latitude  longitude  populacao\n",
      "18     1           156  -19.9167   -43.9345    2315560\n",
      "13     2          2808  -19.7668   -44.0868    1905395\n",
      "14     3          2808  -19.6944   -43.9237     988106\n",
      "1      4         13416  -21.7642   -43.3496    1574197\n",
      "11     5          4680  -19.7479   -47.9319     823093\n",
      "10     6          6864  -21.2475   -44.9997     880430\n",
      "9      7          7800  -20.1452   -44.8912    1182836\n",
      "6      8          9048  -18.8545   -41.9459     687921\n",
      "15     9          2808  -18.9128   -48.2755    1100550\n",
      "12    10          3588  -19.0003   -46.3162     534508\n",
      "2     11         12012  -16.7286   -43.8578    1427455\n",
      "0     12         15132  -19.4820   -42.5279    1718360\n",
      "4     13          9516  -21.2250   -43.7737     732771\n",
      "8     14          8112  -18.7573   -44.4303     673977\n",
      "5     15          9360  -17.8576   -41.5059     825657\n",
      "16    16          2652  -16.3595   -46.9067     377579\n",
      "3     17         11232  -22.2300   -45.9380    1023552\n",
      "7     18          8580  -21.7890   -46.5663    1105320\n",
      "17    19          2496  -19.4671   -44.2469     433110\n"
     ]
    }
   ],
   "source": [
    "import pandas as pd\n",
    "\n",
    "df = pd.read_csv('../data/processado/database_rispMG.csv', sep=';', encoding= 'utf-8')\n",
    "df = df.sort_values(by=\"risp\", ascending=True)\n",
    "\n",
    "df.to_csv('../data/processado/database_rispMG.csv', sep=';', encoding= 'utf-8', index=False)\n",
    "\n",
    "print(df)"
   ]
  },
  {
   "cell_type": "markdown",
   "id": "9f2225f3",
   "metadata": {},
   "source": [
    "Adicionando dados de renda per capita"
   ]
  },
  {
   "cell_type": "code",
   "execution_count": 89,
   "id": "777384dc",
   "metadata": {},
   "outputs": [
    {
     "name": "stdout",
     "output_type": "stream",
     "text": [
      "    risp  total_crimes  latitude  longitude  populacao         2010\n",
      "0      1           156  -19.9167   -43.9345    2315560  3341.202635\n",
      "1      2          2808  -19.7668   -44.0868    1905395  1305.204350\n",
      "2      3          2808  -19.6944   -43.9237     988106  1495.459415\n",
      "3      4         13416  -21.7642   -43.3496    1574197  1150.614633\n",
      "4      5          4680  -19.7479   -47.9319     823093  1603.196628\n",
      "5      6          6864  -21.2475   -44.9997     880430  1268.971890\n",
      "6      7          7800  -20.1452   -44.8912    1182836  1361.878648\n",
      "7      8          9048  -18.8545   -41.9459     687921   843.576091\n",
      "8      9          2808  -18.9128   -48.2755    1100550  1500.402333\n",
      "9     10          3588  -19.0003   -46.3162     534508  1487.994277\n",
      "10    11         12012  -16.7286   -43.8578    1427455   663.031120\n",
      "11    12         15132  -19.4820   -42.5279    1718360   981.789731\n",
      "12    13          9516  -21.2250   -43.7737     732771  1031.525481\n",
      "13    14          8112  -18.7573   -44.4303     673977   830.394969\n",
      "14    15          9360  -17.8576   -41.5059     825657   714.860653\n",
      "15    16          2652  -16.3595   -46.9067     377579  1026.207781\n",
      "16    17         11232  -22.2300   -45.9380    1023552  1238.881027\n",
      "17    18          8580  -21.7890   -46.5663    1105320  1420.181561\n",
      "18    19          2496  -19.4671   -44.2469     433110  1226.990275\n"
     ]
    }
   ],
   "source": [
    "import pandas as pd\n",
    "\n",
    "rendaMunicipio = pd.read_csv('../data/bruto/renda_per_capita_2010.csv', sep=';', encoding= 'utf-8')\n",
    "\n",
    "risp = pd.read_csv('../data/bruto/municipios_risp.csv', sep=';', encoding= 'utf-8')\n",
    "\n",
    "df = pd.read_csv('../data/processado/database_rispMG.csv', sep=';', encoding= 'utf-8')\n",
    "\n",
    "risp.columns = risp.columns.str.strip().str.lower()\n",
    "rendaMunicipio.columns = rendaMunicipio.columns.str.strip().str.lower()\n",
    "df.columns = df.columns.str.strip().str.lower()\n",
    "\n",
    "relacao = risp.merge(rendaMunicipio, on='município', how='inner')\n",
    "relacao['2010'] = relacao['2010'].astype(str).str.replace(',', '.')\n",
    "relacao['2010'] = pd.to_numeric(relacao['2010'], errors='coerce')\n",
    "\n",
    "rendaRisp = relacao.groupby(\"risp\")[\"2010\"].mean().reset_index()\n",
    "#Fator de correção segundo: https://www.idinheiro.com.br/\n",
    "fatorIPCA = 2.2315\n",
    "\n",
    "rendaRisp['2010'] = rendaRisp['2010'] * fatorIPCA\n",
    "\n",
    "dfRenda = df.merge(rendaRisp, on=\"risp\", how='left')\n",
    "\n",
    "print(dfRenda)\n",
    "\n",
    "dfRenda.to_csv('../data/processado/database_rispMG.csv', sep=';', encoding= 'utf-8', index=False)\n"
   ]
  },
  {
   "cell_type": "markdown",
   "id": "191db16d",
   "metadata": {},
   "source": [
    "Adição do IDH Médio de cada RISP"
   ]
  },
  {
   "cell_type": "code",
   "execution_count": 94,
   "id": "4262f70b",
   "metadata": {},
   "outputs": [
    {
     "name": "stdout",
     "output_type": "stream",
     "text": [
      "    risp  total_crimes  latitude  longitude  populacao  renda_media   2010\n",
      "0      1           156  -19.9167   -43.9345    2315560  3341.202635  0.810\n",
      "1      2          2808  -19.7668   -44.0868    1905395  1305.204350  0.695\n",
      "2      3          2808  -19.6944   -43.9237     988106  1495.459415  0.715\n",
      "3      4         13416  -21.7642   -43.3496    1574197  1150.614633  0.673\n",
      "4      5          4680  -19.7479   -47.9319     823093  1603.196629  0.712\n",
      "5      6          6864  -21.2475   -44.9997     880430  1268.971890  0.695\n",
      "6      7          7800  -20.1452   -44.8912    1182836  1361.878648  0.702\n",
      "7      8          9048  -18.8545   -41.9459     687921   843.576091  0.630\n",
      "8      9          2808  -18.9128   -48.2755    1100550  1500.402333  0.714\n",
      "9     10          3588  -19.0003   -46.3162     534508  1487.994277  0.707\n",
      "10    11         12012  -16.7286   -43.8578    1427455   663.031120  0.623\n",
      "11    12         15132  -19.4820   -42.5279    1718360   981.789731  0.654\n",
      "12    13          9516  -21.2250   -43.7737     732771  1031.525481  0.671\n",
      "13    14          8112  -18.7573   -44.4303     673977   830.394969  0.638\n",
      "14    15          9360  -17.8576   -41.5059     825657   714.860653  0.607\n",
      "15    16          2652  -16.3595   -46.9067     377579  1026.207781  0.675\n",
      "16    17         11232  -22.2300   -45.9380    1023552  1238.881027  0.691\n",
      "17    18          8580  -21.7890   -46.5663    1105320  1420.181561  0.707\n",
      "18    19          2496  -19.4671   -44.2469     433110  1226.990275  0.698\n"
     ]
    }
   ],
   "source": [
    "import pandas as pd\n",
    "\n",
    "dadosIDH = pd.read_csv('../data/bruto/IDHM_2010.csv', sep=';', encoding= 'utf-8')\n",
    "\n",
    "risp = pd.read_csv('../data/bruto/municipios_risp.csv', sep=';', encoding= 'utf-8')\n",
    "\n",
    "df = pd.read_csv('../data/processado/database_rispMG.csv', sep=';', encoding='utf-8')\n",
    "\n",
    "risp.columns = risp.columns.str.strip().str.lower()\n",
    "dadosIDH.columns = dadosIDH.columns.str.strip().str.lower()\n",
    "df.columns = df.columns.str.strip().str.lower()\n",
    "\n",
    "relacao = risp.merge(dadosIDH, on='município', how='inner')\n",
    "relacao['2010'] = relacao['2010'].astype(str).str.replace(',', '.')\n",
    "relacao['2010'] = pd.to_numeric(relacao['2010'], errors='coerce')\n",
    "\n",
    "IDHRisp = relacao.groupby(\"risp\")[\"2010\"].mean().reset_index().round(3)\n",
    "\n",
    "dfIDH = df.merge(IDHRisp, on=\"risp\", how='left')\n",
    "\n",
    "print(dfIDH)\n",
    "\n",
    "dfIDH.to_csv('../data/processado/database_rispMG.csv', sep=';', encoding= 'utf-8', index=False)\n",
    "\n",
    "\n"
   ]
  },
  {
   "cell_type": "markdown",
   "id": "69607260",
   "metadata": {},
   "source": [
    "Adição de informações de educação"
   ]
  },
  {
   "cell_type": "code",
   "execution_count": null,
   "id": "8ad21a3f",
   "metadata": {},
   "outputs": [
    {
     "name": "stdout",
     "output_type": "stream",
     "text": [
      "    risp  total_crimes  latitude  longitude  populacao  renda_media  \\\n",
      "0      1           156  -19.9167   -43.9345    2315560  3341.202635   \n",
      "1      2          2808  -19.7668   -44.0868    1905395  1305.204350   \n",
      "2      3          2808  -19.6944   -43.9237     988106  1495.459415   \n",
      "3      4         13416  -21.7642   -43.3496    1574197  1150.614633   \n",
      "4      5          4680  -19.7479   -47.9319     823093  1603.196629   \n",
      "5      6          6864  -21.2475   -44.9997     880430  1268.971890   \n",
      "6      7          7800  -20.1452   -44.8912    1182836  1361.878648   \n",
      "7      8          9048  -18.8545   -41.9459     687921   843.576091   \n",
      "8      9          2808  -18.9128   -48.2755    1100550  1500.402333   \n",
      "9     10          3588  -19.0003   -46.3162     534508  1487.994277   \n",
      "10    11         12012  -16.7286   -43.8578    1427455   663.031120   \n",
      "11    12         15132  -19.4820   -42.5279    1718360   981.789731   \n",
      "12    13          9516  -21.2250   -43.7737     732771  1031.525481   \n",
      "13    14          8112  -18.7573   -44.4303     673977   830.394969   \n",
      "14    15          9360  -17.8576   -41.5059     825657   714.860653   \n",
      "15    16          2652  -16.3595   -46.9067     377579  1026.207781   \n",
      "16    17         11232  -22.2300   -45.9380    1023552  1238.881027   \n",
      "17    18          8580  -21.7890   -46.5663    1105320  1420.181561   \n",
      "18    19          2496  -19.4671   -44.2469     433110  1226.990275   \n",
      "\n",
      "    idh_medio  taxa_de_analfabetismo(%)  \n",
      "0       0.810                     2.220  \n",
      "1       0.695                     3.881  \n",
      "2       0.715                     3.599  \n",
      "3       0.673                     4.880  \n",
      "4       0.712                     4.643  \n",
      "5       0.695                     5.377  \n",
      "6       0.702                     4.370  \n",
      "7       0.630                     9.845  \n",
      "8       0.714                     3.975  \n",
      "9       0.707                     5.203  \n",
      "10      0.623                    11.760  \n",
      "11      0.654                     6.877  \n",
      "12      0.671                     5.157  \n",
      "13      0.638                    10.375  \n",
      "14      0.607                    16.033  \n",
      "15      0.675                     7.021  \n",
      "16      0.691                     5.181  \n",
      "17      0.707                     5.057  \n",
      "18      0.698                     3.885  \n"
     ]
    },
    {
     "name": "stderr",
     "output_type": "stream",
     "text": [
      "C:\\Users\\Meu computador\\AppData\\Local\\Temp\\ipykernel_4196\\1918415745.py:26: DeprecationWarning: DataFrameGroupBy.apply operated on the grouping columns. This behavior is deprecated, and in a future version of pandas the grouping columns will be excluded from the operation. Either pass `include_groups=False` to exclude the groupings or explicitly select the grouping columns after groupby to silence this warning.\n",
      "  .apply(lambda x: (x['taxa'] * x['2022']).sum() / x['2022'].sum())\n"
     ]
    }
   ],
   "source": [
    "import pandas as pd\n",
    "\n",
    "dadosAnalfabetismo = risp = pd.read_csv('../data/bruto/analfabetismo_maior_15.csv', sep=';', encoding= 'utf-8')\n",
    "\n",
    "risp = pd.read_csv('../data/bruto/municipios_risp.csv', sep=';', encoding= 'utf-8')\n",
    "\n",
    "df = pd.read_csv('../data/processado/database_rispMG.csv', sep=';', encoding='utf-8')\n",
    "\n",
    "pop = pd.read_csv('../data/bruto/popTotal_2022.csv', sep=';', encoding='utf-8')\n",
    "\n",
    "risp.columns = risp.columns.str.strip().str.lower()\n",
    "dadosAnalfabetismo.columns = dadosAnalfabetismo.columns.str.strip().str.lower()\n",
    "df.columns = df.columns.str.strip().str.lower()\n",
    "pop.columns = pop.columns.str.strip().str.lower()\n",
    "\n",
    "relacao = risp.merge(dadosAnalfabetismo, on='município', how='inner')\n",
    "relacao['taxa'] = relacao['taxa'].astype(str).str.replace(',', '.')\n",
    "relacao['taxa'] = pd.to_numeric(relacao['taxa'], errors='coerce')\n",
    "\n",
    "relacao = relacao.merge(pop, on='município', how='inner')\n",
    "relacao['2022'] = relacao['2022'].astype(str).str.replace(',', '.')\n",
    "relacao['2022'] = pd.to_numeric(relacao['2022'], errors='coerce')\n",
    "\n",
    "taxaRisp = (\n",
    "    relacao.groupby('risp')\n",
    "    .apply(lambda x: (x['taxa'] * x['2022']).sum() / x['2022'].sum())\n",
    "    .reset_index(name='taxa_de_analfabetismo(%)')\n",
    ").round(3)\n",
    "\n",
    "dfAnalf = df.merge(taxaRisp, on=\"risp\", how='left')\n",
    "\n",
    "print(dfAnalf)\n",
    "\n",
    "dfAnalf.to_csv('../data/processado/database_rispMG.csv', sep=';', encoding= 'utf-8', index=False)\n",
    "\n"
   ]
  },
  {
   "cell_type": "markdown",
   "id": "0ac1508d",
   "metadata": {},
   "source": [
    "Adição da Expectativa de vida"
   ]
  },
  {
   "cell_type": "code",
   "execution_count": 6,
   "id": "a3431311",
   "metadata": {},
   "outputs": [
    {
     "name": "stdout",
     "output_type": "stream",
     "text": [
      "    risp  total_crimes  latitude  longitude  populacao  renda_media  \\\n",
      "0      1           156  -19.9167   -43.9345    2315560     3341.200   \n",
      "1      2          2808  -19.7668   -44.0868    1905395     1305.202   \n",
      "2      3          2808  -19.6944   -43.9237     988106     1495.460   \n",
      "3      4         13416  -21.7642   -43.3496    1574197     1150.620   \n",
      "4      5          4680  -19.7479   -47.9319     823093     1603.200   \n",
      "5      6          6864  -21.2475   -44.9997     880430     1268.970   \n",
      "6      7          7800  -20.1452   -44.8912    1182836     1361.880   \n",
      "7      8          9048  -18.8545   -41.9459     687921      843.580   \n",
      "8      9          2808  -18.9128   -48.2755    1100550     1500.400   \n",
      "9     10          3588  -19.0003   -46.3162     534508     1487.990   \n",
      "10    11         12012  -16.7286   -43.8578    1427455      663.030   \n",
      "11    12         15132  -19.4820   -42.5279    1718360      981.790   \n",
      "12    13          9516  -21.2250   -43.7737     732771     1031.530   \n",
      "13    14          8112  -18.7573   -44.4303     673977      830.400   \n",
      "14    15          9360  -17.8576   -41.5059     825657      714.860   \n",
      "15    16          2652  -16.3595   -46.9067     377579     1026.213   \n",
      "16    17         11232  -22.2300   -45.9380    1023552     1238.880   \n",
      "17    18          8580  -21.7890   -46.5663    1105320     1420.186   \n",
      "18    19          2496  -19.4671   -44.2469     433110     1226.990   \n",
      "\n",
      "    idh_medio  taxa_de_analfabetismo(%)  esperança_vida  \n",
      "0       0.810                     2.220          76.370  \n",
      "1       0.695                     3.881          75.297  \n",
      "2       0.715                     3.599          75.464  \n",
      "3       0.673                     4.880          74.831  \n",
      "4       0.712                     4.643          76.479  \n",
      "5       0.695                     5.377          75.285  \n",
      "6       0.702                     4.370          75.669  \n",
      "7       0.630                     9.845          73.209  \n",
      "8       0.714                     3.975          75.982  \n",
      "9       0.707                     5.203          75.607  \n",
      "10      0.623                    11.760          72.734  \n",
      "11      0.654                     6.877          73.946  \n",
      "12      0.671                     5.157          74.462  \n",
      "13      0.638                    10.375          73.272  \n",
      "14      0.607                    16.033          72.472  \n",
      "15      0.675                     7.021          74.161  \n",
      "16      0.691                     5.181          75.330  \n",
      "17      0.707                     5.057          75.911  \n",
      "18      0.698                     3.885          74.663  \n"
     ]
    }
   ],
   "source": [
    "import pandas as pd\n",
    "\n",
    "risp = pd.read_csv('../data/bruto/municipios_risp.csv', sep=';', encoding= 'utf-8')\n",
    "\n",
    "df = pd.read_csv('../data/processado/database_rispMG.csv', sep=';', encoding='utf-8')\n",
    "\n",
    "expcVida = pd.read_csv('../data/bruto/expecVida_2010.csv', sep=';', encoding='utf-8')\n",
    "\n",
    "risp.columns = risp.columns.str.strip().str.lower()\n",
    "expcVida.columns = expcVida.columns.str.strip().str.lower()\n",
    "df.columns = df.columns.str.strip().str.lower()\n",
    "\n",
    "\n",
    "relacao = risp.merge(expcVida, on='município', how='inner')\n",
    "relacao['esperança_vida'] = relacao['esperança_vida'].astype(str).str.replace(',', '.')\n",
    "relacao['esperança_vida'] = pd.to_numeric(relacao['esperança_vida'], errors='coerce')\n",
    "\n",
    "expecVidaRisp = relacao.groupby(\"risp\")[\"esperança_vida\"].mean().reset_index().round(3)\n",
    "\n",
    "dfExpecVida = df.merge(expecVidaRisp, on=\"risp\", how='left')\n",
    "\n",
    "print(dfExpecVida)\n",
    "\n",
    "dfExpecVida.to_csv('../data/processado/database_rispMG.csv', sep=';', encoding= 'utf-8', index=False)"
   ]
  },
  {
   "cell_type": "markdown",
   "id": "2287eb8d",
   "metadata": {},
   "source": [
    "Arrumando o tipo das colunas"
   ]
  },
  {
   "cell_type": "code",
   "execution_count": 3,
   "id": "62166de3",
   "metadata": {},
   "outputs": [],
   "source": [
    "import pandas as pd\n",
    "\n",
    "df = pd.read_csv('../data/processado/database_rispMG.csv', sep=';', encoding='utf-8')\n",
    "\n",
    "df['total_crimes'] = pd.to_numeric(df['total_crimes'], errors='coerce')\n",
    "df['populacao'] = pd.to_numeric(df['populacao'], errors='coerce')\n",
    "\n",
    "df.to_csv('../data/processado/database_rispMG.csv', sep=';', encoding= 'utf-8', index=False)"
   ]
  }
 ],
 "metadata": {
  "kernelspec": {
   "display_name": "base",
   "language": "python",
   "name": "python3"
  },
  "language_info": {
   "codemirror_mode": {
    "name": "ipython",
    "version": 3
   },
   "file_extension": ".py",
   "mimetype": "text/x-python",
   "name": "python",
   "nbconvert_exporter": "python",
   "pygments_lexer": "ipython3",
   "version": "3.13.5"
  }
 },
 "nbformat": 4,
 "nbformat_minor": 5
}
